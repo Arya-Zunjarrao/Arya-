{
 "cells": [
  {
   "cell_type": "code",
   "execution_count": 1,
   "id": "24118045",
   "metadata": {},
   "outputs": [
    {
     "name": "stdout",
     "output_type": "stream",
     "text": [
      "*\n",
      "**\n",
      "***\n",
      "****\n",
      "*****\n"
     ]
    }
   ],
   "source": [
    "for i in range (1,6):\n",
    "    for j in range (i):\n",
    "        print(\"*\", end=\"\")\n",
    "    print()    "
   ]
  },
  {
   "cell_type": "code",
   "execution_count": 2,
   "id": "4139ce08",
   "metadata": {},
   "outputs": [
    {
     "name": "stdout",
     "output_type": "stream",
     "text": [
      "Enter the number of iterations: 6\n",
      "\n",
      "*\n",
      "**\n",
      "***\n",
      "****\n",
      "*****\n"
     ]
    }
   ],
   "source": [
    "n=int(input(\"Enter the number of iterations: \"))\n",
    "for i in range(n):\n",
    "    for j in range (i):\n",
    "        print(\"*\", end=\"\")\n",
    "    print()    "
   ]
  },
  {
   "cell_type": "code",
   "execution_count": 3,
   "id": "a1a9d5f1",
   "metadata": {},
   "outputs": [
    {
     "name": "stdout",
     "output_type": "stream",
     "text": [
      "Enter the number of iterations: 6\n",
      "******\n",
      "*****\n",
      "****\n",
      "***\n",
      "**\n",
      "*\n"
     ]
    }
   ],
   "source": [
    "n = int(input(\"Enter the number of iterations: \"))\n",
    "for i in range (n):\n",
    "    for j in range(n-i):\n",
    "        print(\"*\", end=\"\")\n",
    "    print()    "
   ]
  },
  {
   "cell_type": "code",
   "execution_count": 11,
   "id": "f5cb3a73",
   "metadata": {},
   "outputs": [
    {
     "name": "stdout",
     "output_type": "stream",
     "text": [
      "Enter the number of iterations: 5\n",
      "     *\n",
      "    **\n",
      "   ***\n",
      "  ****\n",
      " *****\n"
     ]
    }
   ],
   "source": [
    "n = int(input(\"Enter the number of iterations: \"))\n",
    "for i in range(0,n,1):\n",
    "    for j in range(n-i):\n",
    "        print(\" \", end=\"\")\n",
    "    for j in range(i+1):    \n",
    "        print(\"*\", end=\"\")\n",
    "    print()    "
   ]
  },
  {
   "cell_type": "code",
   "execution_count": 40,
   "id": "fad8cd6f",
   "metadata": {},
   "outputs": [
    {
     "name": "stdout",
     "output_type": "stream",
     "text": [
      "Enter the number of iterations: 5\n",
      "*****\n",
      " ****\n",
      "  ***\n",
      "   **\n",
      "    *\n"
     ]
    }
   ],
   "source": [
    "n = int(input(\"Enter the number of iterations: \"))\n",
    "for i in range (n):\n",
    "    for j in range(i):\n",
    "        print(\" \", end=\"\")\n",
    "    for j in range(n-i):\n",
    "        print(\"*\", end=\"\")\n",
    "    print()    "
   ]
  },
  {
   "cell_type": "code",
   "execution_count": 15,
   "id": "793e8f90",
   "metadata": {},
   "outputs": [
    {
     "name": "stdout",
     "output_type": "stream",
     "text": [
      "Enter the number of iterations: 5\n",
      " *  *  *  *  * \n",
      "  *  *  *  * \n",
      "   *  *  * \n",
      "    *  * \n",
      "     * \n"
     ]
    }
   ],
   "source": [
    "n = int(input(\"Enter the number of iterations: \"))\n",
    "for i in range (n):\n",
    "    for j in range(i):\n",
    "        print(\" \", end=\"\")\n",
    "    for j in range(n-i):\n",
    "        print(\" * \", end=\"\")\n",
    "    print()  "
   ]
  },
  {
   "cell_type": "code",
   "execution_count": 27,
   "id": "c3c37a0c",
   "metadata": {},
   "outputs": [
    {
     "name": "stdout",
     "output_type": "stream",
     "text": [
      "Enter the number of iterations: 5\n",
      "* * * * * * * * * * \n",
      "* * * *     * * * * \n",
      "* * *         * * * \n",
      "* *             * * \n",
      "*                 * \n"
     ]
    }
   ],
   "source": [
    "n = int(input(\"Enter the number of iterations: \"))\n",
    "for i in range (n):\n",
    "    for j in range(n-i):\n",
    "        print(\"*\", end=\" \") \n",
    "    for j in range(2*i):\n",
    "        print(\" \", end=\" \")\n",
    "    for j in range(n-i):\n",
    "        print(\"*\", end=\" \")\n",
    "    print()"
   ]
  },
  {
   "cell_type": "code",
   "execution_count": 93,
   "id": "1d6056c6",
   "metadata": {},
   "outputs": [
    {
     "name": "stdout",
     "output_type": "stream",
     "text": [
      "*                 * \n",
      "* *             * * \n",
      "* * *         * * * \n",
      "* * * *     * * * * \n",
      "* * * * * * * * * * \n"
     ]
    }
   ],
   "source": [
    "n = 5\n",
    "\n",
    "for i in range(n):\n",
    "    # Print the left side of the pattern\n",
    "    for j in range(i + 1):\n",
    "        print('* ', end='')\n",
    "    \n",
    "    # Print the spaces in the middle\n",
    "    for j in range(2 * (n - i - 1)):\n",
    "        print('  ', end='')\n",
    "    \n",
    "    # Print the right side of the pattern\n",
    "    for j in range(i + 1):\n",
    "        print('* ', end='')\n",
    "    \n",
    "    # Move to the next line\n",
    "    print()\n"
   ]
  },
  {
   "cell_type": "code",
   "execution_count": 86,
   "id": "efd615ac",
   "metadata": {},
   "outputs": [
    {
     "name": "stdout",
     "output_type": "stream",
     "text": [
      "*                 * \n",
      "* *             * * \n",
      "* * *         * * * \n",
      "* * * *     * * * * \n",
      "* * * * * * * * * * \n",
      "* * * * * * * * * * \n",
      "* * * *     * * * * \n",
      "* * *         * * * \n",
      "* *             * * \n",
      "*                 * \n"
     ]
    }
   ],
   "source": [
    "n = 5\n",
    "\n",
    "# Top half of the pattern\n",
    "for i in range(n):\n",
    "    # Print the left side of the pattern\n",
    "    for j in range(i + 1):\n",
    "        print('* ', end='')\n",
    "    \n",
    "    # Print the spaces in the middle\n",
    "    for j in range(2 * (n - i - 1)):\n",
    "        print('  ', end='')\n",
    "    \n",
    "    # Print the right side of the pattern\n",
    "    for j in range(i + 1):\n",
    "        print('* ', end='')\n",
    "    \n",
    "    # Move to the next line\n",
    "    print()\n",
    "\n",
    "# Bottom half of the pattern (mirror image)\n",
    "for i in range(n-1, -1, -1):\n",
    "    # Print the left side of the pattern\n",
    "    for j in range(i + 1):\n",
    "        print('* ', end='')\n",
    "    \n",
    "    # Print the spaces in the middle\n",
    "    for j in range(2 * (n - i - 1)):\n",
    "        print('  ', end='')\n",
    "    \n",
    "    # Print the right side of the pattern\n",
    "    for j in range(i + 1):\n",
    "        print('* ', end='')\n",
    "    \n",
    "    # Move to the next line\n",
    "    print()\n"
   ]
  },
  {
   "cell_type": "code",
   "execution_count": 97,
   "id": "29795fe9",
   "metadata": {},
   "outputs": [
    {
     "name": "stdout",
     "output_type": "stream",
     "text": [
      "* * * * * * * * * * \n",
      "* * * *     * * * \n",
      "* * *         * * \n",
      "* *             * \n",
      "*                 \n",
      "*                 \n",
      "* *             * \n",
      "* * *         * * \n",
      "* * * *     * * * \n",
      "* * * * * * * * * * \n",
      "* * * * * * * * * * * \n"
     ]
    }
   ],
   "source": [
    "n = 5\n",
    "\n",
    "# Top half of the pattern\n",
    "for i in range(n):\n",
    "    # Print asterisks\n",
    "    for j in range(n - i):\n",
    "        print('* ', end='')\n",
    "    \n",
    "    # Print spaces\n",
    "    for j in range(2 * i):\n",
    "        print('  ', end='')\n",
    "    \n",
    "    # Print asterisks for the mirrored part\n",
    "    for j in range(n-i):\n",
    "        if i == 0 or j != 0:\n",
    "            print('* ', end='')\n",
    "    \n",
    "    # Move to the next line\n",
    "    print()\n",
    "\n",
    "# Bottom half of the pattern (mirror image)\n",
    "for i in range(n+1):\n",
    "    # Print asterisks\n",
    "    for j in range(i+1):\n",
    "        print('* ', end='')\n",
    "    \n",
    "    # Print spaces\n",
    "    for j in range(2 * (n - i - 1)):\n",
    "        print('  ', end='')\n",
    "    \n",
    "    # Print asterisks for the mirrored part\n",
    "    for j in range(i+1):\n",
    "        if i == n - 1 or j != i:\n",
    "            print('* ', end='')\n",
    "    \n",
    "    # Move to the next line\n",
    "    print()\n"
   ]
  },
  {
   "cell_type": "code",
   "execution_count": null,
   "id": "a5961f61",
   "metadata": {},
   "outputs": [],
   "source": []
  }
 ],
 "metadata": {
  "kernelspec": {
   "display_name": "Python 3 (ipykernel)",
   "language": "python",
   "name": "python3"
  },
  "language_info": {
   "codemirror_mode": {
    "name": "ipython",
    "version": 3
   },
   "file_extension": ".py",
   "mimetype": "text/x-python",
   "name": "python",
   "nbconvert_exporter": "python",
   "pygments_lexer": "ipython3",
   "version": "3.11.5"
  }
 },
 "nbformat": 4,
 "nbformat_minor": 5
}

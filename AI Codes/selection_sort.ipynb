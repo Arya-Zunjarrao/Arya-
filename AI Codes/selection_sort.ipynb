{
 "cells": [
  {
   "cell_type": "code",
   "execution_count": 1,
   "id": "61f1f4c2",
   "metadata": {},
   "outputs": [
    {
     "name": "stdout",
     "output_type": "stream",
     "text": [
      "Enter the number of elements: 3\n",
      "Enter element 1: 56\n",
      "Enter element 2: 68\n",
      "Enter element 3: 3\n",
      "\n",
      "Original array: [56, 68, 3]\n",
      "Step 1: [3, 68, 56]\n",
      "Step 2: [3, 56, 68]\n",
      "\n",
      "Sorted array: [3, 56, 68]\n",
      "\n",
      "Time Complexity: O(n^2)\n",
      "Space Complexity: O(1)\n",
      "Total Execution Time: 0.000260 seconds\n"
     ]
    }
   ],
   "source": [
    "import time\n",
    "\n",
    "def selection_sort(arr):\n",
    "    n = len(arr)\n",
    "\n",
    "    # Time Complexity: O(n^2)\n",
    "    # Space Complexity: O(1)\n",
    "    for i in range(n - 1):\n",
    "        min_index = i\n",
    "        for j in range(i + 1, n):\n",
    "            if arr[j] < arr[min_index]:\n",
    "                min_index = j\n",
    "\n",
    "        # Swap the found minimum element with the first element\n",
    "        arr[i], arr[min_index] = arr[min_index], arr[i]\n",
    "\n",
    "        # Display the current state of the array after each swap\n",
    "        print(f\"Step {i + 1}: {arr}\")\n",
    "\n",
    "# Input from the user\n",
    "try:\n",
    "    n = int(input(\"Enter the number of elements: \"))\n",
    "    if n <= 0:\n",
    "        raise ValueError(\"Number of elements should be greater than 0.\")\n",
    "\n",
    "    arr = [int(input(f\"Enter element {i + 1}: \")) for i in range(n)]\n",
    "\n",
    "    print(\"\\nOriginal array:\", arr)\n",
    "\n",
    "    # Record start time\n",
    "    start_time = time.time()\n",
    "\n",
    "    # Perform selection sort\n",
    "    selection_sort(arr)\n",
    "\n",
    "    # Record end time\n",
    "    end_time = time.time()\n",
    "    \n",
    "    # Display sorted array\n",
    "    print(\"\\nSorted array:\", arr)\n",
    "    \n",
    "    # Display time complexity\n",
    "    print(\"\\nTime Complexity: O(n^2)\")\n",
    "    \n",
    "    # Display space complexity\n",
    "    print(\"Space Complexity: O(1)\")\n",
    "    \n",
    "    # Display total execution time\n",
    "    print(f\"Total Execution Time: {end_time - start_time:.6f} seconds\")\n",
    "\n",
    "except ValueError as e:\n",
    "    print(f\"Error: {e}\")"
   ]
  },
  {
   "cell_type": "code",
   "execution_count": null,
   "id": "b29af312",
   "metadata": {},
   "outputs": [],
   "source": []
  }
 ],
 "metadata": {
  "kernelspec": {
   "display_name": "Python 3 (ipykernel)",
   "language": "python",
   "name": "python3"
  },
  "language_info": {
   "codemirror_mode": {
    "name": "ipython",
    "version": 3
   },
   "file_extension": ".py",
   "mimetype": "text/x-python",
   "name": "python",
   "nbconvert_exporter": "python",
   "pygments_lexer": "ipython3",
   "version": "3.11.5"
  }
 },
 "nbformat": 4,
 "nbformat_minor": 5
}

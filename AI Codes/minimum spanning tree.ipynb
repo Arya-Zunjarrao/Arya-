{
 "cells": [
  {
   "cell_type": "code",
   "execution_count": 1,
   "id": "7d9f7ee3",
   "metadata": {},
   "outputs": [
    {
     "name": "stdout",
     "output_type": "stream",
     "text": [
      "Enter number of nodes: 3\n",
      "Enter number of edges for node 1: 2\n",
      "Enter edge 1 for node 1: 2 5\n",
      "Enter edge 2 for node 1: 3 2\n",
      "Enter number of edges for node 2: 2\n",
      "Enter edge 1 for node 2: 1 4\n",
      "Enter edge 2 for node 2: 3 1\n",
      "Enter number of edges for node 3: 1\n",
      "Enter edge 1 for node 3: 2 6\n",
      "Edges of the Minimum Spanning Tree:\n",
      "2 -- 3 == 1\n",
      "1 -- 3 == 2\n"
     ]
    }
   ],
   "source": [
    "class Graph:\n",
    "    def __init__(self, vertices):\n",
    "        self.V = vertices\n",
    "        self.graph = []\n",
    "\n",
    "    def add_edge(self, u, v, w):\n",
    "        self.graph.append([u, v, w])\n",
    "\n",
    "    def find_parent(self, parent, i):\n",
    "        if parent[i] == i:\n",
    "            return i\n",
    "        return self.find_parent(parent, parent[i])\n",
    "\n",
    "    def union(self, parent, rank, x, y):\n",
    "        x_root = self.find_parent(parent, x)\n",
    "        y_root = self.find_parent(parent, y)\n",
    "\n",
    "        if rank[x_root] < rank[y_root]:\n",
    "            parent[x_root] = y_root\n",
    "        elif rank[x_root] > rank[y_root]:\n",
    "            parent[y_root] = x_root\n",
    "        else:\n",
    "            parent[y_root] = x_root\n",
    "            rank[x_root] += 1\n",
    "\n",
    "    def kruskal_mst(self):\n",
    "        result = []\n",
    "        i, e = 0, 0\n",
    "        self.graph = sorted(self.graph, key=lambda item: item[2])\n",
    "        parent = []\n",
    "        rank = []\n",
    "\n",
    "        for node in range(self.V):\n",
    "            parent.append(node)\n",
    "            rank.append(0)\n",
    "\n",
    "        while e < self.V - 1:\n",
    "            u, v, w = self.graph[i]\n",
    "            i = i + 1\n",
    "            x = self.find_parent(parent, u)\n",
    "            y = self.find_parent(parent, v)\n",
    "\n",
    "            if x != y:\n",
    "                e = e + 1\n",
    "                result.append([u, v, w])\n",
    "                self.union(parent, rank, x, y)\n",
    "\n",
    "        return result\n",
    "\n",
    "\n",
    "if __name__ == \"__main__\":\n",
    "    num_nodes = int(input(\"Enter number of nodes: \"))\n",
    "    g = Graph(num_nodes)\n",
    "    for i in range(num_nodes):\n",
    "        num_edges = int(input(f\"Enter number of edges for node {i+1}: \"))\n",
    "        for j in range(num_edges):\n",
    "            edge = input(f\"Enter edge {j+1} for node {i+1}: \").split()\n",
    "            g.add_edge(i, int(edge[0])-1, int(edge[1]))\n",
    "\n",
    "    mst_edges = g.kruskal_mst()\n",
    "    print(\"Edges of the Minimum Spanning Tree:\")\n",
    "    for u, v, w in mst_edges:\n",
    "        print(f\"{u+1} -- {v+1} == {w}\")\n"
   ]
  },
  {
   "cell_type": "code",
   "execution_count": null,
   "id": "06318d19",
   "metadata": {},
   "outputs": [],
   "source": []
  }
 ],
 "metadata": {
  "kernelspec": {
   "display_name": "Python 3 (ipykernel)",
   "language": "python",
   "name": "python3"
  },
  "language_info": {
   "codemirror_mode": {
    "name": "ipython",
    "version": 3
   },
   "file_extension": ".py",
   "mimetype": "text/x-python",
   "name": "python",
   "nbconvert_exporter": "python",
   "pygments_lexer": "ipython3",
   "version": "3.11.5"
  }
 },
 "nbformat": 4,
 "nbformat_minor": 5
}

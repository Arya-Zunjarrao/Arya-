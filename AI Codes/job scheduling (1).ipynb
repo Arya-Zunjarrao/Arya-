{
 "cells": [
  {
   "cell_type": "code",
   "execution_count": 1,
   "id": "6e148e35",
   "metadata": {},
   "outputs": [
    {
     "name": "stdout",
     "output_type": "stream",
     "text": [
      "Enter the number of jobs: 3\n",
      "Enter deadline and profit for job 1: 2 100\n",
      "Enter deadline and profit for job 2: 6 5000\n",
      "Enter deadline and profit for job 3: 1 80\n",
      "Sequence of jobs to maximize profit: [0, 1, 2]\n",
      "Total profit: 5180\n"
     ]
    }
   ],
   "source": [
    "def job_scheduling(deadlines, profits):\n",
    "    n = len(deadlines)\n",
    "    max_deadline = max(deadlines)\n",
    "    sequence = [-1] * max_deadline\n",
    "    jobs_done = []\n",
    "    total_profit = 0\n",
    "\n",
    "    for i in range(n):\n",
    "        for j in range(min(max_deadline, deadlines[i])-1, -1, -1):\n",
    "            if sequence[j] == -1:\n",
    "                sequence[j] = i\n",
    "                jobs_done.append(i)\n",
    "                total_profit += profits[i]\n",
    "                break\n",
    "\n",
    "    return jobs_done, total_profit\n",
    "\n",
    "\n",
    "if __name__ == \"__main__\":\n",
    "    n = int(input(\"Enter the number of jobs: \"))\n",
    "    deadlines = []\n",
    "    profits = []\n",
    "\n",
    "    for i in range(n):\n",
    "        d, p = map(int, input(f\"Enter deadline and profit for job {i+1}: \").split())\n",
    "        deadlines.append(d)\n",
    "        profits.append(p)\n",
    "\n",
    "    sequence, total_profit = job_scheduling(deadlines, profits)\n",
    "\n",
    "    print(\"Sequence of jobs to maximize profit:\", sequence)\n",
    "    print(\"Total profit:\", total_profit)\n"
   ]
  },
  {
   "cell_type": "code",
   "execution_count": null,
   "id": "3750fefa",
   "metadata": {},
   "outputs": [],
   "source": []
  }
 ],
 "metadata": {
  "kernelspec": {
   "display_name": "Python 3 (ipykernel)",
   "language": "python",
   "name": "python3"
  },
  "language_info": {
   "codemirror_mode": {
    "name": "ipython",
    "version": 3
   },
   "file_extension": ".py",
   "mimetype": "text/x-python",
   "name": "python",
   "nbconvert_exporter": "python",
   "pygments_lexer": "ipython3",
   "version": "3.11.5"
  }
 },
 "nbformat": 4,
 "nbformat_minor": 5
}

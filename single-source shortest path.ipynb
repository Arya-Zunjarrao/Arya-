{
 "cells": [
  {
   "cell_type": "code",
   "execution_count": 2,
   "id": "decb3826",
   "metadata": {},
   "outputs": [
    {
     "name": "stdout",
     "output_type": "stream",
     "text": [
      "Enter number of nodes: 5\n",
      "Enter number of edges for node 0: 2\n",
      "Enter edge 1 for node 0 (node weight): 1 10\n",
      "Enter edge 2 for node 0 (node weight): 3 5\n",
      "Enter number of edges for node 1: 2\n",
      "Enter edge 1 for node 1 (node weight): 0 10\n",
      "Enter edge 2 for node 1 (node weight): 2 1\n",
      "Enter number of edges for node 2: 2\n",
      "Enter edge 1 for node 2 (node weight): 1 1\n",
      "Enter edge 2 for node 2 (node weight): 3 4\n",
      "Enter number of edges for node 3: 2\n",
      "Enter edge 1 for node 3 (node weight): 0 5\n",
      "Enter edge 2 for node 3 (node weight): 2 4\n",
      "Enter number of edges for node 4: 1\n",
      "Enter edge 1 for node 4 (node weight): 3 2\n",
      "Enter source node: 1\n",
      "Shortest distances from source node:\n",
      "Node 1 to Node 0: 10\n",
      "Node 1 to Node 1: 0\n",
      "Node 1 to Node 2: 1\n",
      "Node 1 to Node 3: 5\n",
      "Node 1 to Node 4: inf\n"
     ]
    }
   ],
   "source": [
    "#single-source shortest path problem\n",
    "import heapq\n",
    "\n",
    "class Graph:\n",
    "    def __init__(self, vertices):\n",
    "        self.V = vertices\n",
    "        self.graph = [[] for _ in range(vertices)]\n",
    "\n",
    "    def add_edge(self, u, v, w):\n",
    "        self.graph[u].append((v, w))\n",
    "\n",
    "    def dijkstra(self, src):\n",
    "        dist = [float('inf')] * self.V\n",
    "        dist[src] = 0\n",
    "        pq = [(0, src)]\n",
    "\n",
    "        while pq:\n",
    "            dist_u, u = heapq.heappop(pq)\n",
    "\n",
    "            for v, w in self.graph[u]:\n",
    "                if dist[u] + w < dist[v]:\n",
    "                    dist[v] = dist[u] + w\n",
    "                    heapq.heappush(pq, (dist[v], v))\n",
    "\n",
    "        return dist\n",
    "\n",
    "\n",
    "if __name__ == \"__main__\":\n",
    "    num_nodes = int(input(\"Enter number of nodes: \"))\n",
    "    g = Graph(num_nodes)\n",
    "    for i in range(num_nodes):\n",
    "        num_edges = int(input(f\"Enter number of edges for node {i}: \"))\n",
    "        for j in range(num_edges):\n",
    "            edge = input(f\"Enter edge {j+1} for node {i} (node weight): \").split()\n",
    "            g.add_edge(i, int(edge[0]), int(edge[1]))\n",
    "\n",
    "    source_node = int(input(\"Enter source node: \"))\n",
    "    shortest_paths = g.dijkstra(source_node)\n",
    "    print(\"Shortest distances from source node:\")\n",
    "    for i, dist in enumerate(shortest_paths):\n",
    "        print(f\"Node {source_node} to Node {i}: {dist}\")\n"
   ]
  },
  {
   "cell_type": "code",
   "execution_count": null,
   "id": "d5e9465e",
   "metadata": {},
   "outputs": [],
   "source": []
  }
 ],
 "metadata": {
  "kernelspec": {
   "display_name": "Python 3 (ipykernel)",
   "language": "python",
   "name": "python3"
  },
  "language_info": {
   "codemirror_mode": {
    "name": "ipython",
    "version": 3
   },
   "file_extension": ".py",
   "mimetype": "text/x-python",
   "name": "python",
   "nbconvert_exporter": "python",
   "pygments_lexer": "ipython3",
   "version": "3.11.5"
  }
 },
 "nbformat": 4,
 "nbformat_minor": 5
}
